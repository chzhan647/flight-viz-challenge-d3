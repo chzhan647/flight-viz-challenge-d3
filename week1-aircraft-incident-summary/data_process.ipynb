{
 "cells": [
  {
   "cell_type": "code",
   "execution_count": 1,
   "metadata": {},
   "outputs": [],
   "source": [
    "\n",
    "import pandas as pd \n",
    "import os\n",
    "import glob\n"
   ]
  },
  {
   "cell_type": "code",
   "execution_count": 115,
   "metadata": {},
   "outputs": [],
   "source": [
    "### Select only Aviation accidents \n",
    "os.chdir('../data')\n",
    "csv_files = glob.glob('*.{}'.format('csv'))\n",
    "df_append = pd.concat([pd.read_csv(f) for f in csv_files], ignore_index = True)\n",
    "df_final = df_append.drop_duplicates()\n",
    "\n",
    "df_final = df_final.loc[df_final['Mode'] == 'Aviation']\n",
    "\n",
    "### Select only boeing and airbus accidents \n",
    "df_final[\"Make\"] = df_final[\"Make\"].fillna(\"\")\n",
    "df_boeing_airbus = df_final[df_final.apply(lambda x: x['Make'].upper(),axis= 1).str.contains('|'.join(['BOEING','AIRBUS']))]\n",
    "\n"
   ]
  },
  {
   "cell_type": "code",
   "execution_count": 116,
   "metadata": {},
   "outputs": [
    {
     "name": "stderr",
     "output_type": "stream",
     "text": [
      "/var/folders/49/75nljxy5475cbm9jg654pl1w0000gn/T/ipykernel_15287/81193258.py:2: SettingWithCopyWarning: \n",
      "A value is trying to be set on a copy of a slice from a DataFrame.\n",
      "Try using .loc[row_indexer,col_indexer] = value instead\n",
      "\n",
      "See the caveats in the documentation: https://pandas.pydata.org/pandas-docs/stable/user_guide/indexing.html#returning-a-view-versus-a-copy\n",
      "  df_boeing_airbus['UTC_YEAR'] = pd.to_datetime(df_boeing_airbus['EventDate']).dt.year\n",
      "/var/folders/49/75nljxy5475cbm9jg654pl1w0000gn/T/ipykernel_15287/81193258.py:3: SettingWithCopyWarning: \n",
      "A value is trying to be set on a copy of a slice from a DataFrame.\n",
      "Try using .loc[row_indexer,col_indexer] = value instead\n",
      "\n",
      "See the caveats in the documentation: https://pandas.pydata.org/pandas-docs/stable/user_guide/indexing.html#returning-a-view-versus-a-copy\n",
      "  df_boeing_airbus['UTC_MTH'] = pd.to_datetime(df_boeing_airbus['EventDate']).dt.month\n",
      "/var/folders/49/75nljxy5475cbm9jg654pl1w0000gn/T/ipykernel_15287/81193258.py:4: SettingWithCopyWarning: \n",
      "A value is trying to be set on a copy of a slice from a DataFrame.\n",
      "Try using .loc[row_indexer,col_indexer] = value instead\n",
      "\n",
      "See the caveats in the documentation: https://pandas.pydata.org/pandas-docs/stable/user_guide/indexing.html#returning-a-view-versus-a-copy\n",
      "  df_boeing_airbus['UTC_DAY'] = pd.to_datetime(df_boeing_airbus['EventDate']).dt.day\n",
      "/var/folders/49/75nljxy5475cbm9jg654pl1w0000gn/T/ipykernel_15287/81193258.py:5: SettingWithCopyWarning: \n",
      "A value is trying to be set on a copy of a slice from a DataFrame.\n",
      "Try using .loc[row_indexer,col_indexer] = value instead\n",
      "\n",
      "See the caveats in the documentation: https://pandas.pydata.org/pandas-docs/stable/user_guide/indexing.html#returning-a-view-versus-a-copy\n",
      "  df_boeing_airbus['UTC_HOUR'] = pd.to_datetime(df_boeing_airbus['EventDate']).dt.hour\n",
      "/var/folders/49/75nljxy5475cbm9jg654pl1w0000gn/T/ipykernel_15287/81193258.py:6: SettingWithCopyWarning: \n",
      "A value is trying to be set on a copy of a slice from a DataFrame.\n",
      "Try using .loc[row_indexer,col_indexer] = value instead\n",
      "\n",
      "See the caveats in the documentation: https://pandas.pydata.org/pandas-docs/stable/user_guide/indexing.html#returning-a-view-versus-a-copy\n",
      "  df_boeing_airbus['UTC_WEEKDAY'] = pd.to_datetime(df_boeing_airbus['EventDate']).dt.day_name()\n"
     ]
    }
   ],
   "source": [
    "### Create separate columns for datetime\n",
    "df_boeing_airbus['UTC_YEAR'] = pd.to_datetime(df_boeing_airbus['EventDate']).dt.year\n",
    "df_boeing_airbus['UTC_MTH'] = pd.to_datetime(df_boeing_airbus['EventDate']).dt.month\n",
    "df_boeing_airbus['UTC_DAY'] = pd.to_datetime(df_boeing_airbus['EventDate']).dt.day\n",
    "df_boeing_airbus['UTC_HOUR'] = pd.to_datetime(df_boeing_airbus['EventDate']).dt.hour\n",
    "df_boeing_airbus['UTC_WEEKDAY'] = pd.to_datetime(df_boeing_airbus['EventDate']).dt.day_name()"
   ]
  },
  {
   "cell_type": "code",
   "execution_count": 117,
   "metadata": {},
   "outputs": [],
   "source": [
    "### The number of accidents per year \n",
    "df_boeing_airbus['UTC_YEAR'].value_counts().reset_index().to_csv('year_count.csv')"
   ]
  },
  {
   "cell_type": "code",
   "execution_count": 118,
   "metadata": {},
   "outputs": [
    {
     "name": "stderr",
     "output_type": "stream",
     "text": [
      "/var/folders/49/75nljxy5475cbm9jg654pl1w0000gn/T/ipykernel_15287/219017469.py:5: UserWarning: Boolean Series key will be reindexed to match DataFrame index.\n",
      "  df_temp = pd.concat([df_duplicate, df_duplicate[mask]]).sort_index().reset_index(drop=True)\n",
      "/var/folders/49/75nljxy5475cbm9jg654pl1w0000gn/T/ipykernel_15287/219017469.py:9: SettingWithCopyWarning: \n",
      "A value is trying to be set on a copy of a slice from a DataFrame.\n",
      "Try using .loc[row_indexer,col_indexer] = value instead\n",
      "\n",
      "See the caveats in the documentation: https://pandas.pydata.org/pandas-docs/stable/user_guide/indexing.html#returning-a-view-versus-a-copy\n",
      "  df_unique['Make_final'] = df_unique['Make'].apply(lambda x: 'Boeing' if 'BOEING' in x.upper() else 'Airbus')\n"
     ]
    }
   ],
   "source": [
    "### Transfer collision incidents involving both airbus and boeing to separate rows \n",
    "\n",
    "mask = df_boeing_airbus['Make'].isin([\"Boeing, Airbus\",\"AIRBUS, BOEING\",\"AIRBUS INDUSTRIE, BOEING\",\"BOEING, AIRBUS\"])\n",
    "df_duplicate = df_boeing_airbus[df_boeing_airbus['Make'].isin([\"Boeing, Airbus\",\"AIRBUS, BOEING\",\"AIRBUS INDUSTRIE, BOEING\",\"BOEING, AIRBUS\"])]\n",
    "df_unique  = df_boeing_airbus[~df_boeing_airbus['Make'].isin([\"Boeing, Airbus\",\"AIRBUS, BOEING\",\"AIRBUS INDUSTRIE, BOEING\",\"BOEING, AIRBUS\"])]\n",
    "\n",
    "df_temp = pd.concat([df_duplicate, df_duplicate[mask]]).sort_index().reset_index(drop=True)\n",
    "df_temp['Make_final'] = ['Boeing'] * 24 +  ['Airbus'] * 24 \n",
    "\n",
    "\n",
    "df_unique['Make_final'] = df_unique['Make'].apply(lambda x: 'Boeing' if 'BOEING' in x.upper() else 'Airbus')\n",
    "\n",
    "df_boeing_airbus_final = pd.concat([df_unique,df_temp])"
   ]
  },
  {
   "cell_type": "code",
   "execution_count": 126,
   "metadata": {},
   "outputs": [],
   "source": [
    "### The number incidents per year by make \n",
    "df_boeing_airbus_final.groupby(['Make_final'])['UTC_YEAR'].value_counts().reset_index().to_csv('year_make_count.csv')"
   ]
  },
  {
   "cell_type": "code",
   "execution_count": 128,
   "metadata": {},
   "outputs": [
    {
     "data": {
      "text/plain": [
       "UTC_YEAR\n",
       "2010    517.0\n",
       "2011     81.0\n",
       "2012    280.0\n",
       "2013     76.0\n",
       "2014    707.0\n",
       "2015    389.0\n",
       "2016    134.0\n",
       "2017     39.0\n",
       "2018    308.0\n",
       "2019    175.0\n",
       "2020    276.0\n",
       "2021     70.0\n",
       "2022    145.0\n",
       "2023      2.0\n",
       "2024      6.0\n",
       "Name: FatalInjuryCount, dtype: float64"
      ]
     },
     "execution_count": 128,
     "metadata": {},
     "output_type": "execute_result"
    }
   ],
   "source": [
    "df_boeing_airbus_final[['UTC_YEAR','FatalInjuryCount', 'SeriousInjuryCount',\n",
    "       'MinorInjuryCount']].groupby(['UTC_YEAR'])['FatalInjuryCount'].sum()\n"
   ]
  },
  {
   "cell_type": "code",
   "execution_count": null,
   "metadata": {},
   "outputs": [],
   "source": []
  }
 ],
 "metadata": {
  "kernelspec": {
   "display_name": "myenv",
   "language": "python",
   "name": "python3"
  },
  "language_info": {
   "codemirror_mode": {
    "name": "ipython",
    "version": 3
   },
   "file_extension": ".py",
   "mimetype": "text/x-python",
   "name": "python",
   "nbconvert_exporter": "python",
   "pygments_lexer": "ipython3",
   "version": "3.8.3"
  }
 },
 "nbformat": 4,
 "nbformat_minor": 2
}
